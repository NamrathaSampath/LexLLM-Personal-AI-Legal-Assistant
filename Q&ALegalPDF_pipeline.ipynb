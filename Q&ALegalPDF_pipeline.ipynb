{
 "cells": [
  {
   "cell_type": "code",
   "execution_count": null,
   "metadata": {
    "colab": {
     "base_uri": "https://localhost:8080/"
    },
    "executionInfo": {
     "elapsed": 6679,
     "status": "ok",
     "timestamp": 1731814112280,
     "user": {
      "displayName": "Sourab Saklecha",
      "userId": "16363880340640371159"
     },
     "user_tz": 480
    },
    "id": "wsT6BOruW3AR",
    "outputId": "0d79458a-89db-4df2-9c1f-e30f209246f6"
   },
   "outputs": [
    {
     "name": "stdout",
     "output_type": "stream",
     "text": [
      "Requirement already satisfied: openai==0.28 in /usr/local/lib/python3.10/dist-packages (0.28.0)\n",
      "Requirement already satisfied: requests>=2.20 in /usr/local/lib/python3.10/dist-packages (from openai==0.28) (2.32.3)\n",
      "Requirement already satisfied: tqdm in /usr/local/lib/python3.10/dist-packages (from openai==0.28) (4.66.6)\n",
      "Requirement already satisfied: aiohttp in /usr/local/lib/python3.10/dist-packages (from openai==0.28) (3.10.10)\n",
      "Requirement already satisfied: charset-normalizer<4,>=2 in /usr/local/lib/python3.10/dist-packages (from requests>=2.20->openai==0.28) (3.4.0)\n",
      "Requirement already satisfied: idna<4,>=2.5 in /usr/local/lib/python3.10/dist-packages (from requests>=2.20->openai==0.28) (3.10)\n",
      "Requirement already satisfied: urllib3<3,>=1.21.1 in /usr/local/lib/python3.10/dist-packages (from requests>=2.20->openai==0.28) (2.2.3)\n",
      "Requirement already satisfied: certifi>=2017.4.17 in /usr/local/lib/python3.10/dist-packages (from requests>=2.20->openai==0.28) (2024.8.30)\n",
      "Requirement already satisfied: aiohappyeyeballs>=2.3.0 in /usr/local/lib/python3.10/dist-packages (from aiohttp->openai==0.28) (2.4.3)\n",
      "Requirement already satisfied: aiosignal>=1.1.2 in /usr/local/lib/python3.10/dist-packages (from aiohttp->openai==0.28) (1.3.1)\n",
      "Requirement already satisfied: attrs>=17.3.0 in /usr/local/lib/python3.10/dist-packages (from aiohttp->openai==0.28) (24.2.0)\n",
      "Requirement already satisfied: frozenlist>=1.1.1 in /usr/local/lib/python3.10/dist-packages (from aiohttp->openai==0.28) (1.5.0)\n",
      "Requirement already satisfied: multidict<7.0,>=4.5 in /usr/local/lib/python3.10/dist-packages (from aiohttp->openai==0.28) (6.1.0)\n",
      "Requirement already satisfied: yarl<2.0,>=1.12.0 in /usr/local/lib/python3.10/dist-packages (from aiohttp->openai==0.28) (1.17.1)\n",
      "Requirement already satisfied: async-timeout<5.0,>=4.0 in /usr/local/lib/python3.10/dist-packages (from aiohttp->openai==0.28) (4.0.3)\n",
      "Requirement already satisfied: typing-extensions>=4.1.0 in /usr/local/lib/python3.10/dist-packages (from multidict<7.0,>=4.5->aiohttp->openai==0.28) (4.12.2)\n",
      "Requirement already satisfied: propcache>=0.2.0 in /usr/local/lib/python3.10/dist-packages (from yarl<2.0,>=1.12.0->aiohttp->openai==0.28) (0.2.0)\n"
     ]
    }
   ],
   "source": [
    "pip install openai==0.28"
   ]
  },
  {
   "cell_type": "code",
   "execution_count": null,
   "metadata": {
    "colab": {
     "base_uri": "https://localhost:8080/"
    },
    "executionInfo": {
     "elapsed": 1785,
     "status": "ok",
     "timestamp": 1731814066355,
     "user": {
      "displayName": "Sourab Saklecha",
      "userId": "16363880340640371159"
     },
     "user_tz": 480
    },
    "id": "BEw3UY6hVqu5",
    "outputId": "6da55564-4283-41f3-a0a4-1da91cf762af"
   },
   "outputs": [
    {
     "name": "stdout",
     "output_type": "stream",
     "text": [
      "Drive already mounted at /content/drive; to attempt to forcibly remount, call drive.mount(\"/content/drive\", force_remount=True).\n"
     ]
    }
   ],
   "source": [
    "# prompt: mount my drive\n",
    "\n",
    "from google.colab import drive\n",
    "drive.mount('/content/drive')\n"
   ]
  },
  {
   "cell_type": "code",
   "execution_count": null,
   "metadata": {
    "colab": {
     "base_uri": "https://localhost:8080/"
    },
    "executionInfo": {
     "elapsed": 3807,
     "status": "ok",
     "timestamp": 1731814125119,
     "user": {
      "displayName": "Sourab Saklecha",
      "userId": "16363880340640371159"
     },
     "user_tz": 480
    },
    "id": "zyjdK8_HVjEt",
    "outputId": "b0af9ea8-ec80-4653-994c-5a156942e469"
   },
   "outputs": [
    {
     "name": "stdout",
     "output_type": "stream",
     "text": [
      "Requirement already satisfied: PyMuPDF in /usr/local/lib/python3.10/dist-packages (1.24.13)\n"
     ]
    }
   ],
   "source": [
    "pip install PyMuPDF"
   ]
  },
  {
   "cell_type": "code",
   "execution_count": null,
   "metadata": {
    "id": "rATTWJX2zgC6"
   },
   "outputs": [],
   "source": [
    "import openai"
   ]
  },
  {
   "cell_type": "markdown",
   "metadata": {
    "id": "VETm1rXlcf6_"
   },
   "source": [
    "PDF to JSONL,Text&CSV"
   ]
  },
  {
   "cell_type": "code",
   "execution_count": null,
   "metadata": {
    "colab": {
     "base_uri": "https://localhost:8080/",
     "height": 353
    },
    "executionInfo": {
     "elapsed": 2255,
     "status": "error",
     "timestamp": 1731814131225,
     "user": {
      "displayName": "Sourab Saklecha",
      "userId": "16363880340640371159"
     },
     "user_tz": 480
    },
    "id": "FxNmhyeBcfau",
    "outputId": "eb7b4eed-decf-416a-dadc-29b8a9bf813c"
   },
   "outputs": [
    {
     "name": "stdout",
     "output_type": "stream",
     "text": [
      "Processing Medtronic U.S. Patient Privacy Principles.pdf_summary_output_wrapped.pdf...\n"
     ]
    },
    {
     "ename": "KeyboardInterrupt",
     "evalue": "",
     "output_type": "error",
     "traceback": [
      "\u001b[0;31m---------------------------------------------------------------------------\u001b[0m",
      "\u001b[0;31mKeyboardInterrupt\u001b[0m                         Traceback (most recent call last)",
      "\u001b[0;32m<ipython-input-18-015a6affb238>\u001b[0m in \u001b[0;36m<cell line: 163>\u001b[0;34m()\u001b[0m\n\u001b[1;32m    161\u001b[0m \u001b[0;34m\u001b[0m\u001b[0m\n\u001b[1;32m    162\u001b[0m \u001b[0;31m# Process all PDFs in the input folder\u001b[0m\u001b[0;34m\u001b[0m\u001b[0;34m\u001b[0m\u001b[0m\n\u001b[0;32m--> 163\u001b[0;31m \u001b[0mprocess_pdf_folder\u001b[0m\u001b[0;34m(\u001b[0m\u001b[0mpdf_folder_path\u001b[0m\u001b[0;34m,\u001b[0m \u001b[0moutput_folder_jsonl\u001b[0m\u001b[0;34m,\u001b[0m \u001b[0moutput_folder_text\u001b[0m\u001b[0;34m,\u001b[0m \u001b[0moutput_folder_csv\u001b[0m\u001b[0;34m)\u001b[0m\u001b[0;34m\u001b[0m\u001b[0;34m\u001b[0m\u001b[0m\n\u001b[0m",
      "\u001b[0;32m<ipython-input-18-015a6affb238>\u001b[0m in \u001b[0;36mprocess_pdf_folder\u001b[0;34m(pdf_folder, output_folder_jsonl, output_folder_text, output_folder_csv)\u001b[0m\n\u001b[1;32m    115\u001b[0m \u001b[0;34m\u001b[0m\u001b[0m\n\u001b[1;32m    116\u001b[0m         \u001b[0;31m# Generate Q&A pairs for each chunk\u001b[0m\u001b[0;34m\u001b[0m\u001b[0;34m\u001b[0m\u001b[0m\n\u001b[0;32m--> 117\u001b[0;31m         \u001b[0mqa_pairs\u001b[0m \u001b[0;34m=\u001b[0m \u001b[0mgenerate_qa_with_rate_limit\u001b[0m\u001b[0;34m(\u001b[0m\u001b[0mchunks\u001b[0m\u001b[0;34m)\u001b[0m\u001b[0;34m\u001b[0m\u001b[0;34m\u001b[0m\u001b[0m\n\u001b[0m\u001b[1;32m    118\u001b[0m \u001b[0;34m\u001b[0m\u001b[0m\n\u001b[1;32m    119\u001b[0m         \u001b[0;31m# Check if Q&A pairs are generated\u001b[0m\u001b[0;34m\u001b[0m\u001b[0;34m\u001b[0m\u001b[0m\n",
      "\u001b[0;32m<ipython-input-18-015a6affb238>\u001b[0m in \u001b[0;36mgenerate_qa_with_rate_limit\u001b[0;34m(chunks)\u001b[0m\n\u001b[1;32m     80\u001b[0m     \u001b[0;32mfor\u001b[0m \u001b[0mchunk\u001b[0m \u001b[0;32min\u001b[0m \u001b[0mchunks\u001b[0m\u001b[0;34m:\u001b[0m\u001b[0;34m\u001b[0m\u001b[0;34m\u001b[0m\u001b[0m\n\u001b[1;32m     81\u001b[0m         \u001b[0;32mtry\u001b[0m\u001b[0;34m:\u001b[0m\u001b[0;34m\u001b[0m\u001b[0;34m\u001b[0m\u001b[0m\n\u001b[0;32m---> 82\u001b[0;31m             \u001b[0mresponse\u001b[0m \u001b[0;34m=\u001b[0m \u001b[0mgenerate_qa_pairs\u001b[0m\u001b[0;34m(\u001b[0m\u001b[0mchunk\u001b[0m\u001b[0;34m)\u001b[0m\u001b[0;34m\u001b[0m\u001b[0;34m\u001b[0m\u001b[0m\n\u001b[0m\u001b[1;32m     83\u001b[0m             \u001b[0mqa_pairs\u001b[0m\u001b[0;34m.\u001b[0m\u001b[0mextend\u001b[0m\u001b[0;34m(\u001b[0m\u001b[0mprocess_qa_response\u001b[0m\u001b[0;34m(\u001b[0m\u001b[0mresponse\u001b[0m\u001b[0;34m)\u001b[0m\u001b[0;34m)\u001b[0m\u001b[0;34m\u001b[0m\u001b[0;34m\u001b[0m\u001b[0m\n\u001b[1;32m     84\u001b[0m             \u001b[0mtime\u001b[0m\u001b[0;34m.\u001b[0m\u001b[0msleep\u001b[0m\u001b[0;34m(\u001b[0m\u001b[0;36m1\u001b[0m\u001b[0;34m)\u001b[0m  \u001b[0;31m# Add a delay to prevent rate limiting\u001b[0m\u001b[0;34m\u001b[0m\u001b[0;34m\u001b[0m\u001b[0m\n",
      "\u001b[0;32m<ipython-input-18-015a6affb238>\u001b[0m in \u001b[0;36mgenerate_qa_pairs\u001b[0;34m(chunk)\u001b[0m\n\u001b[1;32m     42\u001b[0m \u001b[0;31m# Function to generate Q&A pairs from a chunk of text\u001b[0m\u001b[0;34m\u001b[0m\u001b[0;34m\u001b[0m\u001b[0m\n\u001b[1;32m     43\u001b[0m \u001b[0;32mdef\u001b[0m \u001b[0mgenerate_qa_pairs\u001b[0m\u001b[0;34m(\u001b[0m\u001b[0mchunk\u001b[0m\u001b[0;34m)\u001b[0m\u001b[0;34m:\u001b[0m\u001b[0;34m\u001b[0m\u001b[0;34m\u001b[0m\u001b[0m\n\u001b[0;32m---> 44\u001b[0;31m     response = openai.ChatCompletion.create(\n\u001b[0m\u001b[1;32m     45\u001b[0m         \u001b[0mmodel\u001b[0m\u001b[0;34m=\u001b[0m\u001b[0mmodel_name\u001b[0m\u001b[0;34m,\u001b[0m  \u001b[0;31m# Use the global model name\u001b[0m\u001b[0;34m\u001b[0m\u001b[0;34m\u001b[0m\u001b[0m\n\u001b[1;32m     46\u001b[0m         messages=[\n",
      "\u001b[0;32m/usr/local/lib/python3.10/dist-packages/openai/api_resources/chat_completion.py\u001b[0m in \u001b[0;36mcreate\u001b[0;34m(cls, *args, **kwargs)\u001b[0m\n\u001b[1;32m     23\u001b[0m         \u001b[0;32mwhile\u001b[0m \u001b[0;32mTrue\u001b[0m\u001b[0;34m:\u001b[0m\u001b[0;34m\u001b[0m\u001b[0;34m\u001b[0m\u001b[0m\n\u001b[1;32m     24\u001b[0m             \u001b[0;32mtry\u001b[0m\u001b[0;34m:\u001b[0m\u001b[0;34m\u001b[0m\u001b[0;34m\u001b[0m\u001b[0m\n\u001b[0;32m---> 25\u001b[0;31m                 \u001b[0;32mreturn\u001b[0m \u001b[0msuper\u001b[0m\u001b[0;34m(\u001b[0m\u001b[0;34m)\u001b[0m\u001b[0;34m.\u001b[0m\u001b[0mcreate\u001b[0m\u001b[0;34m(\u001b[0m\u001b[0;34m*\u001b[0m\u001b[0margs\u001b[0m\u001b[0;34m,\u001b[0m \u001b[0;34m**\u001b[0m\u001b[0mkwargs\u001b[0m\u001b[0;34m)\u001b[0m\u001b[0;34m\u001b[0m\u001b[0;34m\u001b[0m\u001b[0m\n\u001b[0m\u001b[1;32m     26\u001b[0m             \u001b[0;32mexcept\u001b[0m \u001b[0mTryAgain\u001b[0m \u001b[0;32mas\u001b[0m \u001b[0me\u001b[0m\u001b[0;34m:\u001b[0m\u001b[0;34m\u001b[0m\u001b[0;34m\u001b[0m\u001b[0m\n\u001b[1;32m     27\u001b[0m                 \u001b[0;32mif\u001b[0m \u001b[0mtimeout\u001b[0m \u001b[0;32mis\u001b[0m \u001b[0;32mnot\u001b[0m \u001b[0;32mNone\u001b[0m \u001b[0;32mand\u001b[0m \u001b[0mtime\u001b[0m\u001b[0;34m.\u001b[0m\u001b[0mtime\u001b[0m\u001b[0;34m(\u001b[0m\u001b[0;34m)\u001b[0m \u001b[0;34m>\u001b[0m \u001b[0mstart\u001b[0m \u001b[0;34m+\u001b[0m \u001b[0mtimeout\u001b[0m\u001b[0;34m:\u001b[0m\u001b[0;34m\u001b[0m\u001b[0;34m\u001b[0m\u001b[0m\n",
      "\u001b[0;32m/usr/local/lib/python3.10/dist-packages/openai/api_resources/abstract/engine_api_resource.py\u001b[0m in \u001b[0;36mcreate\u001b[0;34m(cls, api_key, api_base, api_type, request_id, api_version, organization, **params)\u001b[0m\n\u001b[1;32m    151\u001b[0m         )\n\u001b[1;32m    152\u001b[0m \u001b[0;34m\u001b[0m\u001b[0m\n\u001b[0;32m--> 153\u001b[0;31m         response, _, api_key = requestor.request(\n\u001b[0m\u001b[1;32m    154\u001b[0m             \u001b[0;34m\"post\"\u001b[0m\u001b[0;34m,\u001b[0m\u001b[0;34m\u001b[0m\u001b[0;34m\u001b[0m\u001b[0m\n\u001b[1;32m    155\u001b[0m             \u001b[0murl\u001b[0m\u001b[0;34m,\u001b[0m\u001b[0;34m\u001b[0m\u001b[0;34m\u001b[0m\u001b[0m\n",
      "\u001b[0;32m/usr/local/lib/python3.10/dist-packages/openai/api_requestor.py\u001b[0m in \u001b[0;36mrequest\u001b[0;34m(self, method, url, params, headers, files, stream, request_id, request_timeout)\u001b[0m\n\u001b[1;32m    286\u001b[0m         \u001b[0mrequest_timeout\u001b[0m\u001b[0;34m:\u001b[0m \u001b[0mOptional\u001b[0m\u001b[0;34m[\u001b[0m\u001b[0mUnion\u001b[0m\u001b[0;34m[\u001b[0m\u001b[0mfloat\u001b[0m\u001b[0;34m,\u001b[0m \u001b[0mTuple\u001b[0m\u001b[0;34m[\u001b[0m\u001b[0mfloat\u001b[0m\u001b[0;34m,\u001b[0m \u001b[0mfloat\u001b[0m\u001b[0;34m]\u001b[0m\u001b[0;34m]\u001b[0m\u001b[0;34m]\u001b[0m \u001b[0;34m=\u001b[0m \u001b[0;32mNone\u001b[0m\u001b[0;34m,\u001b[0m\u001b[0;34m\u001b[0m\u001b[0;34m\u001b[0m\u001b[0m\n\u001b[1;32m    287\u001b[0m     ) -> Tuple[Union[OpenAIResponse, Iterator[OpenAIResponse]], bool, str]:\n\u001b[0;32m--> 288\u001b[0;31m         result = self.request_raw(\n\u001b[0m\u001b[1;32m    289\u001b[0m             \u001b[0mmethod\u001b[0m\u001b[0;34m.\u001b[0m\u001b[0mlower\u001b[0m\u001b[0;34m(\u001b[0m\u001b[0;34m)\u001b[0m\u001b[0;34m,\u001b[0m\u001b[0;34m\u001b[0m\u001b[0;34m\u001b[0m\u001b[0m\n\u001b[1;32m    290\u001b[0m             \u001b[0murl\u001b[0m\u001b[0;34m,\u001b[0m\u001b[0;34m\u001b[0m\u001b[0;34m\u001b[0m\u001b[0m\n",
      "\u001b[0;32m/usr/local/lib/python3.10/dist-packages/openai/api_requestor.py\u001b[0m in \u001b[0;36mrequest_raw\u001b[0;34m(self, method, url, params, supplied_headers, files, stream, request_id, request_timeout)\u001b[0m\n\u001b[1;32m    594\u001b[0m             \u001b[0m_thread_context\u001b[0m\u001b[0;34m.\u001b[0m\u001b[0msession_create_time\u001b[0m \u001b[0;34m=\u001b[0m \u001b[0mtime\u001b[0m\u001b[0;34m.\u001b[0m\u001b[0mtime\u001b[0m\u001b[0;34m(\u001b[0m\u001b[0;34m)\u001b[0m\u001b[0;34m\u001b[0m\u001b[0;34m\u001b[0m\u001b[0m\n\u001b[1;32m    595\u001b[0m         \u001b[0;32mtry\u001b[0m\u001b[0;34m:\u001b[0m\u001b[0;34m\u001b[0m\u001b[0;34m\u001b[0m\u001b[0m\n\u001b[0;32m--> 596\u001b[0;31m             result = _thread_context.session.request(\n\u001b[0m\u001b[1;32m    597\u001b[0m                 \u001b[0mmethod\u001b[0m\u001b[0;34m,\u001b[0m\u001b[0;34m\u001b[0m\u001b[0;34m\u001b[0m\u001b[0m\n\u001b[1;32m    598\u001b[0m                 \u001b[0mabs_url\u001b[0m\u001b[0;34m,\u001b[0m\u001b[0;34m\u001b[0m\u001b[0;34m\u001b[0m\u001b[0m\n",
      "\u001b[0;32m/usr/local/lib/python3.10/dist-packages/requests/sessions.py\u001b[0m in \u001b[0;36mrequest\u001b[0;34m(self, method, url, params, data, headers, cookies, files, auth, timeout, allow_redirects, proxies, hooks, stream, verify, cert, json)\u001b[0m\n\u001b[1;32m    587\u001b[0m         }\n\u001b[1;32m    588\u001b[0m         \u001b[0msend_kwargs\u001b[0m\u001b[0;34m.\u001b[0m\u001b[0mupdate\u001b[0m\u001b[0;34m(\u001b[0m\u001b[0msettings\u001b[0m\u001b[0;34m)\u001b[0m\u001b[0;34m\u001b[0m\u001b[0;34m\u001b[0m\u001b[0m\n\u001b[0;32m--> 589\u001b[0;31m         \u001b[0mresp\u001b[0m \u001b[0;34m=\u001b[0m \u001b[0mself\u001b[0m\u001b[0;34m.\u001b[0m\u001b[0msend\u001b[0m\u001b[0;34m(\u001b[0m\u001b[0mprep\u001b[0m\u001b[0;34m,\u001b[0m \u001b[0;34m**\u001b[0m\u001b[0msend_kwargs\u001b[0m\u001b[0;34m)\u001b[0m\u001b[0;34m\u001b[0m\u001b[0;34m\u001b[0m\u001b[0m\n\u001b[0m\u001b[1;32m    590\u001b[0m \u001b[0;34m\u001b[0m\u001b[0m\n\u001b[1;32m    591\u001b[0m         \u001b[0;32mreturn\u001b[0m \u001b[0mresp\u001b[0m\u001b[0;34m\u001b[0m\u001b[0;34m\u001b[0m\u001b[0m\n",
      "\u001b[0;32m/usr/local/lib/python3.10/dist-packages/requests/sessions.py\u001b[0m in \u001b[0;36msend\u001b[0;34m(self, request, **kwargs)\u001b[0m\n\u001b[1;32m    701\u001b[0m \u001b[0;34m\u001b[0m\u001b[0m\n\u001b[1;32m    702\u001b[0m         \u001b[0;31m# Send the request\u001b[0m\u001b[0;34m\u001b[0m\u001b[0;34m\u001b[0m\u001b[0m\n\u001b[0;32m--> 703\u001b[0;31m         \u001b[0mr\u001b[0m \u001b[0;34m=\u001b[0m \u001b[0madapter\u001b[0m\u001b[0;34m.\u001b[0m\u001b[0msend\u001b[0m\u001b[0;34m(\u001b[0m\u001b[0mrequest\u001b[0m\u001b[0;34m,\u001b[0m \u001b[0;34m**\u001b[0m\u001b[0mkwargs\u001b[0m\u001b[0;34m)\u001b[0m\u001b[0;34m\u001b[0m\u001b[0;34m\u001b[0m\u001b[0m\n\u001b[0m\u001b[1;32m    704\u001b[0m \u001b[0;34m\u001b[0m\u001b[0m\n\u001b[1;32m    705\u001b[0m         \u001b[0;31m# Total elapsed time of the request (approximately)\u001b[0m\u001b[0;34m\u001b[0m\u001b[0;34m\u001b[0m\u001b[0m\n",
      "\u001b[0;32m/usr/local/lib/python3.10/dist-packages/requests/adapters.py\u001b[0m in \u001b[0;36msend\u001b[0;34m(self, request, stream, timeout, verify, cert, proxies)\u001b[0m\n\u001b[1;32m    665\u001b[0m \u001b[0;34m\u001b[0m\u001b[0m\n\u001b[1;32m    666\u001b[0m         \u001b[0;32mtry\u001b[0m\u001b[0;34m:\u001b[0m\u001b[0;34m\u001b[0m\u001b[0;34m\u001b[0m\u001b[0m\n\u001b[0;32m--> 667\u001b[0;31m             resp = conn.urlopen(\n\u001b[0m\u001b[1;32m    668\u001b[0m                 \u001b[0mmethod\u001b[0m\u001b[0;34m=\u001b[0m\u001b[0mrequest\u001b[0m\u001b[0;34m.\u001b[0m\u001b[0mmethod\u001b[0m\u001b[0;34m,\u001b[0m\u001b[0;34m\u001b[0m\u001b[0;34m\u001b[0m\u001b[0m\n\u001b[1;32m    669\u001b[0m                 \u001b[0murl\u001b[0m\u001b[0;34m=\u001b[0m\u001b[0murl\u001b[0m\u001b[0;34m,\u001b[0m\u001b[0;34m\u001b[0m\u001b[0;34m\u001b[0m\u001b[0m\n",
      "\u001b[0;32m/usr/local/lib/python3.10/dist-packages/urllib3/connectionpool.py\u001b[0m in \u001b[0;36murlopen\u001b[0;34m(self, method, url, body, headers, retries, redirect, assert_same_host, timeout, pool_timeout, release_conn, chunked, body_pos, preload_content, decode_content, **response_kw)\u001b[0m\n\u001b[1;32m    787\u001b[0m \u001b[0;34m\u001b[0m\u001b[0m\n\u001b[1;32m    788\u001b[0m             \u001b[0;31m# Make the request on the HTTPConnection object\u001b[0m\u001b[0;34m\u001b[0m\u001b[0;34m\u001b[0m\u001b[0m\n\u001b[0;32m--> 789\u001b[0;31m             response = self._make_request(\n\u001b[0m\u001b[1;32m    790\u001b[0m                 \u001b[0mconn\u001b[0m\u001b[0;34m,\u001b[0m\u001b[0;34m\u001b[0m\u001b[0;34m\u001b[0m\u001b[0m\n\u001b[1;32m    791\u001b[0m                 \u001b[0mmethod\u001b[0m\u001b[0;34m,\u001b[0m\u001b[0;34m\u001b[0m\u001b[0;34m\u001b[0m\u001b[0m\n",
      "\u001b[0;32m/usr/local/lib/python3.10/dist-packages/urllib3/connectionpool.py\u001b[0m in \u001b[0;36m_make_request\u001b[0;34m(self, conn, method, url, body, headers, retries, timeout, chunked, response_conn, preload_content, decode_content, enforce_content_length)\u001b[0m\n\u001b[1;32m    534\u001b[0m         \u001b[0;31m# Receive the response from the server\u001b[0m\u001b[0;34m\u001b[0m\u001b[0;34m\u001b[0m\u001b[0m\n\u001b[1;32m    535\u001b[0m         \u001b[0;32mtry\u001b[0m\u001b[0;34m:\u001b[0m\u001b[0;34m\u001b[0m\u001b[0;34m\u001b[0m\u001b[0m\n\u001b[0;32m--> 536\u001b[0;31m             \u001b[0mresponse\u001b[0m \u001b[0;34m=\u001b[0m \u001b[0mconn\u001b[0m\u001b[0;34m.\u001b[0m\u001b[0mgetresponse\u001b[0m\u001b[0;34m(\u001b[0m\u001b[0;34m)\u001b[0m\u001b[0;34m\u001b[0m\u001b[0;34m\u001b[0m\u001b[0m\n\u001b[0m\u001b[1;32m    537\u001b[0m         \u001b[0;32mexcept\u001b[0m \u001b[0;34m(\u001b[0m\u001b[0mBaseSSLError\u001b[0m\u001b[0;34m,\u001b[0m \u001b[0mOSError\u001b[0m\u001b[0;34m)\u001b[0m \u001b[0;32mas\u001b[0m \u001b[0me\u001b[0m\u001b[0;34m:\u001b[0m\u001b[0;34m\u001b[0m\u001b[0;34m\u001b[0m\u001b[0m\n\u001b[1;32m    538\u001b[0m             \u001b[0mself\u001b[0m\u001b[0;34m.\u001b[0m\u001b[0m_raise_timeout\u001b[0m\u001b[0;34m(\u001b[0m\u001b[0merr\u001b[0m\u001b[0;34m=\u001b[0m\u001b[0me\u001b[0m\u001b[0;34m,\u001b[0m \u001b[0murl\u001b[0m\u001b[0;34m=\u001b[0m\u001b[0murl\u001b[0m\u001b[0;34m,\u001b[0m \u001b[0mtimeout_value\u001b[0m\u001b[0;34m=\u001b[0m\u001b[0mread_timeout\u001b[0m\u001b[0;34m)\u001b[0m\u001b[0;34m\u001b[0m\u001b[0;34m\u001b[0m\u001b[0m\n",
      "\u001b[0;32m/usr/local/lib/python3.10/dist-packages/urllib3/connection.py\u001b[0m in \u001b[0;36mgetresponse\u001b[0;34m(self)\u001b[0m\n\u001b[1;32m    505\u001b[0m \u001b[0;34m\u001b[0m\u001b[0m\n\u001b[1;32m    506\u001b[0m         \u001b[0;31m# Get the response from http.client.HTTPConnection\u001b[0m\u001b[0;34m\u001b[0m\u001b[0;34m\u001b[0m\u001b[0m\n\u001b[0;32m--> 507\u001b[0;31m         \u001b[0mhttplib_response\u001b[0m \u001b[0;34m=\u001b[0m \u001b[0msuper\u001b[0m\u001b[0;34m(\u001b[0m\u001b[0;34m)\u001b[0m\u001b[0;34m.\u001b[0m\u001b[0mgetresponse\u001b[0m\u001b[0;34m(\u001b[0m\u001b[0;34m)\u001b[0m\u001b[0;34m\u001b[0m\u001b[0;34m\u001b[0m\u001b[0m\n\u001b[0m\u001b[1;32m    508\u001b[0m \u001b[0;34m\u001b[0m\u001b[0m\n\u001b[1;32m    509\u001b[0m         \u001b[0;32mtry\u001b[0m\u001b[0;34m:\u001b[0m\u001b[0;34m\u001b[0m\u001b[0;34m\u001b[0m\u001b[0m\n",
      "\u001b[0;32m/usr/lib/python3.10/http/client.py\u001b[0m in \u001b[0;36mgetresponse\u001b[0;34m(self)\u001b[0m\n\u001b[1;32m   1373\u001b[0m         \u001b[0;32mtry\u001b[0m\u001b[0;34m:\u001b[0m\u001b[0;34m\u001b[0m\u001b[0;34m\u001b[0m\u001b[0m\n\u001b[1;32m   1374\u001b[0m             \u001b[0;32mtry\u001b[0m\u001b[0;34m:\u001b[0m\u001b[0;34m\u001b[0m\u001b[0;34m\u001b[0m\u001b[0m\n\u001b[0;32m-> 1375\u001b[0;31m                 \u001b[0mresponse\u001b[0m\u001b[0;34m.\u001b[0m\u001b[0mbegin\u001b[0m\u001b[0;34m(\u001b[0m\u001b[0;34m)\u001b[0m\u001b[0;34m\u001b[0m\u001b[0;34m\u001b[0m\u001b[0m\n\u001b[0m\u001b[1;32m   1376\u001b[0m             \u001b[0;32mexcept\u001b[0m \u001b[0mConnectionError\u001b[0m\u001b[0;34m:\u001b[0m\u001b[0;34m\u001b[0m\u001b[0;34m\u001b[0m\u001b[0m\n\u001b[1;32m   1377\u001b[0m                 \u001b[0mself\u001b[0m\u001b[0;34m.\u001b[0m\u001b[0mclose\u001b[0m\u001b[0;34m(\u001b[0m\u001b[0;34m)\u001b[0m\u001b[0;34m\u001b[0m\u001b[0;34m\u001b[0m\u001b[0m\n",
      "\u001b[0;32m/usr/lib/python3.10/http/client.py\u001b[0m in \u001b[0;36mbegin\u001b[0;34m(self)\u001b[0m\n\u001b[1;32m    316\u001b[0m         \u001b[0;31m# read until we get a non-100 response\u001b[0m\u001b[0;34m\u001b[0m\u001b[0;34m\u001b[0m\u001b[0m\n\u001b[1;32m    317\u001b[0m         \u001b[0;32mwhile\u001b[0m \u001b[0;32mTrue\u001b[0m\u001b[0;34m:\u001b[0m\u001b[0;34m\u001b[0m\u001b[0;34m\u001b[0m\u001b[0m\n\u001b[0;32m--> 318\u001b[0;31m             \u001b[0mversion\u001b[0m\u001b[0;34m,\u001b[0m \u001b[0mstatus\u001b[0m\u001b[0;34m,\u001b[0m \u001b[0mreason\u001b[0m \u001b[0;34m=\u001b[0m \u001b[0mself\u001b[0m\u001b[0;34m.\u001b[0m\u001b[0m_read_status\u001b[0m\u001b[0;34m(\u001b[0m\u001b[0;34m)\u001b[0m\u001b[0;34m\u001b[0m\u001b[0;34m\u001b[0m\u001b[0m\n\u001b[0m\u001b[1;32m    319\u001b[0m             \u001b[0;32mif\u001b[0m \u001b[0mstatus\u001b[0m \u001b[0;34m!=\u001b[0m \u001b[0mCONTINUE\u001b[0m\u001b[0;34m:\u001b[0m\u001b[0;34m\u001b[0m\u001b[0;34m\u001b[0m\u001b[0m\n\u001b[1;32m    320\u001b[0m                 \u001b[0;32mbreak\u001b[0m\u001b[0;34m\u001b[0m\u001b[0;34m\u001b[0m\u001b[0m\n",
      "\u001b[0;32m/usr/lib/python3.10/http/client.py\u001b[0m in \u001b[0;36m_read_status\u001b[0;34m(self)\u001b[0m\n\u001b[1;32m    277\u001b[0m \u001b[0;34m\u001b[0m\u001b[0m\n\u001b[1;32m    278\u001b[0m     \u001b[0;32mdef\u001b[0m \u001b[0m_read_status\u001b[0m\u001b[0;34m(\u001b[0m\u001b[0mself\u001b[0m\u001b[0;34m)\u001b[0m\u001b[0;34m:\u001b[0m\u001b[0;34m\u001b[0m\u001b[0;34m\u001b[0m\u001b[0m\n\u001b[0;32m--> 279\u001b[0;31m         \u001b[0mline\u001b[0m \u001b[0;34m=\u001b[0m \u001b[0mstr\u001b[0m\u001b[0;34m(\u001b[0m\u001b[0mself\u001b[0m\u001b[0;34m.\u001b[0m\u001b[0mfp\u001b[0m\u001b[0;34m.\u001b[0m\u001b[0mreadline\u001b[0m\u001b[0;34m(\u001b[0m\u001b[0m_MAXLINE\u001b[0m \u001b[0;34m+\u001b[0m \u001b[0;36m1\u001b[0m\u001b[0;34m)\u001b[0m\u001b[0;34m,\u001b[0m \u001b[0;34m\"iso-8859-1\"\u001b[0m\u001b[0;34m)\u001b[0m\u001b[0;34m\u001b[0m\u001b[0;34m\u001b[0m\u001b[0m\n\u001b[0m\u001b[1;32m    280\u001b[0m         \u001b[0;32mif\u001b[0m \u001b[0mlen\u001b[0m\u001b[0;34m(\u001b[0m\u001b[0mline\u001b[0m\u001b[0;34m)\u001b[0m \u001b[0;34m>\u001b[0m \u001b[0m_MAXLINE\u001b[0m\u001b[0;34m:\u001b[0m\u001b[0;34m\u001b[0m\u001b[0;34m\u001b[0m\u001b[0m\n\u001b[1;32m    281\u001b[0m             \u001b[0;32mraise\u001b[0m \u001b[0mLineTooLong\u001b[0m\u001b[0;34m(\u001b[0m\u001b[0;34m\"status line\"\u001b[0m\u001b[0;34m)\u001b[0m\u001b[0;34m\u001b[0m\u001b[0;34m\u001b[0m\u001b[0m\n",
      "\u001b[0;32m/usr/lib/python3.10/socket.py\u001b[0m in \u001b[0;36mreadinto\u001b[0;34m(self, b)\u001b[0m\n\u001b[1;32m    703\u001b[0m         \u001b[0;32mwhile\u001b[0m \u001b[0;32mTrue\u001b[0m\u001b[0;34m:\u001b[0m\u001b[0;34m\u001b[0m\u001b[0;34m\u001b[0m\u001b[0m\n\u001b[1;32m    704\u001b[0m             \u001b[0;32mtry\u001b[0m\u001b[0;34m:\u001b[0m\u001b[0;34m\u001b[0m\u001b[0;34m\u001b[0m\u001b[0m\n\u001b[0;32m--> 705\u001b[0;31m                 \u001b[0;32mreturn\u001b[0m \u001b[0mself\u001b[0m\u001b[0;34m.\u001b[0m\u001b[0m_sock\u001b[0m\u001b[0;34m.\u001b[0m\u001b[0mrecv_into\u001b[0m\u001b[0;34m(\u001b[0m\u001b[0mb\u001b[0m\u001b[0;34m)\u001b[0m\u001b[0;34m\u001b[0m\u001b[0;34m\u001b[0m\u001b[0m\n\u001b[0m\u001b[1;32m    706\u001b[0m             \u001b[0;32mexcept\u001b[0m \u001b[0mtimeout\u001b[0m\u001b[0;34m:\u001b[0m\u001b[0;34m\u001b[0m\u001b[0;34m\u001b[0m\u001b[0m\n\u001b[1;32m    707\u001b[0m                 \u001b[0mself\u001b[0m\u001b[0;34m.\u001b[0m\u001b[0m_timeout_occurred\u001b[0m \u001b[0;34m=\u001b[0m \u001b[0;32mTrue\u001b[0m\u001b[0;34m\u001b[0m\u001b[0;34m\u001b[0m\u001b[0m\n",
      "\u001b[0;32m/usr/lib/python3.10/ssl.py\u001b[0m in \u001b[0;36mrecv_into\u001b[0;34m(self, buffer, nbytes, flags)\u001b[0m\n\u001b[1;32m   1301\u001b[0m                   \u001b[0;34m\"non-zero flags not allowed in calls to recv_into() on %s\"\u001b[0m \u001b[0;34m%\u001b[0m\u001b[0;34m\u001b[0m\u001b[0;34m\u001b[0m\u001b[0m\n\u001b[1;32m   1302\u001b[0m                   self.__class__)\n\u001b[0;32m-> 1303\u001b[0;31m             \u001b[0;32mreturn\u001b[0m \u001b[0mself\u001b[0m\u001b[0;34m.\u001b[0m\u001b[0mread\u001b[0m\u001b[0;34m(\u001b[0m\u001b[0mnbytes\u001b[0m\u001b[0;34m,\u001b[0m \u001b[0mbuffer\u001b[0m\u001b[0;34m)\u001b[0m\u001b[0;34m\u001b[0m\u001b[0;34m\u001b[0m\u001b[0m\n\u001b[0m\u001b[1;32m   1304\u001b[0m         \u001b[0;32melse\u001b[0m\u001b[0;34m:\u001b[0m\u001b[0;34m\u001b[0m\u001b[0;34m\u001b[0m\u001b[0m\n\u001b[1;32m   1305\u001b[0m             \u001b[0;32mreturn\u001b[0m \u001b[0msuper\u001b[0m\u001b[0;34m(\u001b[0m\u001b[0;34m)\u001b[0m\u001b[0;34m.\u001b[0m\u001b[0mrecv_into\u001b[0m\u001b[0;34m(\u001b[0m\u001b[0mbuffer\u001b[0m\u001b[0;34m,\u001b[0m \u001b[0mnbytes\u001b[0m\u001b[0;34m,\u001b[0m \u001b[0mflags\u001b[0m\u001b[0;34m)\u001b[0m\u001b[0;34m\u001b[0m\u001b[0;34m\u001b[0m\u001b[0m\n",
      "\u001b[0;32m/usr/lib/python3.10/ssl.py\u001b[0m in \u001b[0;36mread\u001b[0;34m(self, len, buffer)\u001b[0m\n\u001b[1;32m   1157\u001b[0m         \u001b[0;32mtry\u001b[0m\u001b[0;34m:\u001b[0m\u001b[0;34m\u001b[0m\u001b[0;34m\u001b[0m\u001b[0m\n\u001b[1;32m   1158\u001b[0m             \u001b[0;32mif\u001b[0m \u001b[0mbuffer\u001b[0m \u001b[0;32mis\u001b[0m \u001b[0;32mnot\u001b[0m \u001b[0;32mNone\u001b[0m\u001b[0;34m:\u001b[0m\u001b[0;34m\u001b[0m\u001b[0;34m\u001b[0m\u001b[0m\n\u001b[0;32m-> 1159\u001b[0;31m                 \u001b[0;32mreturn\u001b[0m \u001b[0mself\u001b[0m\u001b[0;34m.\u001b[0m\u001b[0m_sslobj\u001b[0m\u001b[0;34m.\u001b[0m\u001b[0mread\u001b[0m\u001b[0;34m(\u001b[0m\u001b[0mlen\u001b[0m\u001b[0;34m,\u001b[0m \u001b[0mbuffer\u001b[0m\u001b[0;34m)\u001b[0m\u001b[0;34m\u001b[0m\u001b[0;34m\u001b[0m\u001b[0m\n\u001b[0m\u001b[1;32m   1160\u001b[0m             \u001b[0;32melse\u001b[0m\u001b[0;34m:\u001b[0m\u001b[0;34m\u001b[0m\u001b[0;34m\u001b[0m\u001b[0m\n\u001b[1;32m   1161\u001b[0m                 \u001b[0;32mreturn\u001b[0m \u001b[0mself\u001b[0m\u001b[0;34m.\u001b[0m\u001b[0m_sslobj\u001b[0m\u001b[0;34m.\u001b[0m\u001b[0mread\u001b[0m\u001b[0;34m(\u001b[0m\u001b[0mlen\u001b[0m\u001b[0;34m)\u001b[0m\u001b[0;34m\u001b[0m\u001b[0;34m\u001b[0m\u001b[0m\n",
      "\u001b[0;31mKeyboardInterrupt\u001b[0m: "
     ]
    }
   ],
   "source": [
    "import openai\n",
    "import fitz  # PyMuPDF\n",
    "import time\n",
    "import json\n",
    "import re\n",
    "import os\n",
    "import csv  # Import CSV module\n",
    "\n",
    "# Enter your OpenAI API key here\n",
    "openai.api_key = ''\n",
    "\n",
    "# Define the folder paths at the top of the script\n",
    "pdf_folder_path = '/content/drive/Shareddrives/DATA298B_Final/Data/Raw/Output_Preprocessed_Data/5'  # Folder containing PDF files\n",
    "output_folder_jsonl = '/content/drive/Shareddrives/DATA298B_Final/Data/QA_Jsonls'  # Folder to save JSONL files\n",
    "output_folder_text = '/content/drive/Shareddrives/DATA298B_Final/Data/QA_text'  # Folder to save text files\n",
    "output_folder_csv = '/content/drive/Shareddrives/DATA298B_Final/Data/QA_csv'  # Folder to save CSV files\n",
    "model_name = 'gpt-4o-mini'  # Define the model name here\n",
    "\n",
    "# Function to extract text from a PDF using PyMuPDF\n",
    "def extract_text_from_pdf(pdf_path):\n",
    "    doc = fitz.open(pdf_path)\n",
    "    text = \"\"\n",
    "    for page_num in range(len(doc)):\n",
    "        page = doc.load_page(page_num)\n",
    "        text += page.get_text()\n",
    "    return text\n",
    "\n",
    "# Function to chunk text into smaller sizes (aiming for less than 1000 tokens per chunk)\n",
    "def chunk_text(text, max_tokens=1000):\n",
    "    chunks = []\n",
    "    current_chunk = \"\"\n",
    "    for paragraph in text.split('\\n\\n'):  # Assuming paragraphs are separated by double newlines\n",
    "        if len(current_chunk.split()) + len(paragraph.split()) < max_tokens:  # Ensure chunk is less than max_tokens\n",
    "            current_chunk += paragraph + \"\\n\\n\"\n",
    "        else:\n",
    "            chunks.append(current_chunk)\n",
    "            current_chunk = paragraph + \"\\n\\n\"\n",
    "    if current_chunk:\n",
    "        chunks.append(current_chunk)\n",
    "    return chunks\n",
    "\n",
    "# Function to generate Q&A pairs from a chunk of text\n",
    "def generate_qa_pairs(chunk):\n",
    "    response = openai.ChatCompletion.create(\n",
    "        model=model_name,  # Use the global model name\n",
    "        messages=[\n",
    "            {\"role\": \"system\", \"content\": \"You are a helpful Legal Chatbot Assistant.\"},\n",
    "            {\"role\": \"user\", \"content\": f\"Generate 100 Q&A pairs from the following text to be used for future fine-tuning. These are legal documents. Make the questions as close to what a questions a layman would ask after looking at legal cases,policies and legal documents. Give as much context and details as possible. Include legal terms and :\\n\\n{chunk}\"}\n",
    "        ],\n",
    "        max_tokens=15000,  # Adjust max_tokens as required\n",
    "        temperature=0.7\n",
    "    )\n",
    "\n",
    "    # Log the raw API response for debugging\n",
    "    print(\"\\nRaw API Response:\\n\", response['choices'][0]['message']['content'])\n",
    "\n",
    "    return response['choices'][0]['message']['content'].strip()\n",
    "\n",
    "# Function to process the generated response and remove ** characters\n",
    "def process_qa_response(qa_pair_text):\n",
    "    qa_pairs = []\n",
    "\n",
    "    # Remove ** characters from the text\n",
    "    qa_pair_text_cleaned = qa_pair_text.replace(\"**\", \"\").strip()\n",
    "\n",
    "    # Extract Q&A pairs using a simple split\n",
    "    qa_list = qa_pair_text_cleaned.split(\"\\n\\n\")\n",
    "\n",
    "    for qa in qa_list:\n",
    "        if \"Q:\" in qa and \"A:\" in qa:\n",
    "            question = qa.split(\"Q:\", 1)[1].split(\"A:\", 1)[0].strip()  # Extract question\n",
    "            answer = qa.split(\"A:\", 1)[1].strip()  # Extract answer\n",
    "            qa_pairs.append((question, answer))\n",
    "\n",
    "    return qa_pairs\n",
    "\n",
    "# Function to handle API rate limiting by adding a delay and retry if needed\n",
    "def generate_qa_with_rate_limit(chunks):\n",
    "    qa_pairs = []\n",
    "    for chunk in chunks:\n",
    "        try:\n",
    "            response = generate_qa_pairs(chunk)\n",
    "            qa_pairs.extend(process_qa_response(response))\n",
    "            time.sleep(1)  # Add a delay to prevent rate limiting\n",
    "        except openai.error.RateLimitError:\n",
    "            print(\"Rate limit reached, waiting for 60 seconds...\")\n",
    "            time.sleep(60)  # Wait for 60 seconds if rate limit is hit\n",
    "            response = generate_qa_pairs(chunk)  # Retry after waiting\n",
    "            qa_pairs.extend(process_qa_response(response))\n",
    "        except openai.error.APIError as e:\n",
    "            print(f\"Error occurred: {e}. Retrying...\")\n",
    "            time.sleep(5)  # Short wait before retrying\n",
    "            response = generate_qa_pairs(chunk)\n",
    "            qa_pairs.extend(process_qa_response(response))\n",
    "    return qa_pairs\n",
    "\n",
    "# Function to process all PDFs in the folder\n",
    "def process_pdf_folder(pdf_folder, output_folder_jsonl, output_folder_text, output_folder_csv):\n",
    "    # Get all PDF files in the folder\n",
    "    pdf_files = [f for f in os.listdir(pdf_folder) if f.endswith('.pdf')]\n",
    "\n",
    "    for pdf_file in pdf_files:\n",
    "        pdf_path = os.path.join(pdf_folder, pdf_file)\n",
    "        output_file_path_jsonl = os.path.join(output_folder_jsonl, f\"{os.path.splitext(pdf_file)[0]}_qa_pairs.jsonl\")\n",
    "        output_file_path_text = os.path.join(output_folder_text, f\"{os.path.splitext(pdf_file)[0]}_qa_pairs.txt\")\n",
    "        output_file_path_csv = os.path.join(output_folder_csv, f\"{os.path.splitext(pdf_file)[0]}_qa_pairs.csv\")\n",
    "\n",
    "        print(f\"Processing {pdf_file}...\")\n",
    "\n",
    "        # Extract text from the PDF\n",
    "        pdf_text = extract_text_from_pdf(pdf_path)\n",
    "\n",
    "        # Chunk the extracted text\n",
    "        chunks = chunk_text(pdf_text)\n",
    "\n",
    "        # Generate Q&A pairs for each chunk\n",
    "        qa_pairs = generate_qa_with_rate_limit(chunks)\n",
    "\n",
    "        # Check if Q&A pairs are generated\n",
    "        if len(qa_pairs) == 0:\n",
    "            print(f\"No Q&A pairs generated for {pdf_file}. Please check the input and API responses.\")\n",
    "            continue\n",
    "        else:\n",
    "            print(f\"Generated {len(qa_pairs)} Q&A pairs for {pdf_file}.\")\n",
    "\n",
    "        # Save the Q&A pairs in the required JSONL format\n",
    "        try:\n",
    "            with open(output_file_path_jsonl, 'w') as f_jsonl:\n",
    "                for question, answer in qa_pairs:\n",
    "                    json_obj = {\n",
    "                        \"messages\": [\n",
    "                            {\"role\": \"system\", \"content\": \"You are a helpful Legal Chatbot Assistant.\"},\n",
    "                            {\"role\": \"user\", \"content\": question},\n",
    "                            {\"role\": \"assistant\", \"content\": answer}\n",
    "                        ]\n",
    "                    }\n",
    "                    f_jsonl.write(json.dumps(json_obj) + \"\\n\")  # Writing each entry to a new line\n",
    "            print(f\"Q&A pairs for {pdf_file} have been successfully saved in JSONL format to {output_file_path_jsonl}\")\n",
    "        except Exception as e:\n",
    "            print(f\"Error writing {pdf_file} to JSONL file: {e}\")\n",
    "\n",
    "        # Save the cleaned Q&A pairs in a text file\n",
    "        try:\n",
    "            with open(output_file_path_text, 'w') as f_text:\n",
    "                for question, answer in qa_pairs:\n",
    "                    f_text.write(f\"Q: {question}\\nA: {answer}\\n\\n\")\n",
    "            print(f\"Q&A pairs for {pdf_file} have been successfully saved in text format to {output_file_path_text}\")\n",
    "        except Exception as e:\n",
    "            print(f\"Error writing {pdf_file} to text file: {e}\")\n",
    "\n",
    "        # Save the Q&A pairs in a CSV file\n",
    "        try:\n",
    "            with open(output_file_path_csv, 'w', newline='') as f_csv:\n",
    "                writer = csv.writer(f_csv)\n",
    "                writer.writerow([\"Question\", \"Answer\"])  # Write headers\n",
    "                for question, answer in qa_pairs:\n",
    "                    writer.writerow([question, answer])  # Write question and answer in separate columns\n",
    "            print(f\"Q&A pairs for {pdf_file} have been successfully saved in CSV format to {output_file_path_csv}\")\n",
    "        except Exception as e:\n",
    "            print(f\"Error writing {pdf_file} to CSV file: {e}\")\n",
    "\n",
    "# Process all PDFs in the input folder\n",
    "process_pdf_folder(pdf_folder_path, output_folder_jsonl, output_folder_text, output_folder_csv)\n"
   ]
  },
  {
   "cell_type": "code",
   "execution_count": null,
   "metadata": {
    "id": "IkgmI-GqfVFy"
   },
   "outputs": [],
   "source": []
  },
  {
   "cell_type": "markdown",
   "metadata": {
    "id": "e58Q5F1Gzh9J"
   },
   "source": [
    "Combine JSONLs"
   ]
  },
  {
   "cell_type": "code",
   "execution_count": null,
   "metadata": {
    "id": "mrjDutA8RPYE"
   },
   "outputs": [],
   "source": [
    "import os\n",
    "import json\n",
    "\n",
    "# Enter the path to the folder where JSONL files are saved\n",
    "output_folder_path = '/content/drive/Shareddrives/DATA298B_Final/Data/QA_Jsonls'\n",
    "\n",
    "# Enter the path for the combined output JSONL file\n",
    "combined_output_file = '/content/drive/Shareddrives/DATA298B_Final/Data/Final_QA_OpenAI/final_qa_openai.jsonl'"
   ]
  },
  {
   "cell_type": "code",
   "execution_count": null,
   "metadata": {
    "colab": {
     "base_uri": "https://localhost:8080/"
    },
    "executionInfo": {
     "elapsed": 1157,
     "status": "ok",
     "timestamp": 1731814140391,
     "user": {
      "displayName": "Sourab Saklecha",
      "userId": "16363880340640371159"
     },
     "user_tz": 480
    },
    "id": "jl7tbFssQ_Bm",
    "outputId": "55f89cbe-1736-45b1-b34a-7590d6dbd6fb"
   },
   "outputs": [
    {
     "name": "stdout",
     "output_type": "stream",
     "text": [
      "All JSONL files have been combined into /content/drive/Shareddrives/DATA298B_Final/Data/Final_QA_OpenAI/final_qa_openai.jsonl\n"
     ]
    }
   ],
   "source": [
    "\n",
    "\n",
    "# Function to combine JSONL files\n",
    "def combine_jsonl_files(output_folder, combined_file):\n",
    "    jsonl_files = [f for f in os.listdir(output_folder) if f.endswith('.jsonl')]\n",
    "\n",
    "    all_data = []\n",
    "\n",
    "    # Read all JSONL files and store the contents\n",
    "    for jsonl_file in jsonl_files:\n",
    "        file_path = os.path.join(output_folder, jsonl_file)\n",
    "        with open(file_path, 'r') as f:\n",
    "            for line in f:\n",
    "                all_data.append(line.strip())  # Strip newlines and store each line\n",
    "\n",
    "    # Write combined data into one file\n",
    "    with open(combined_file, 'w') as out_file:\n",
    "        for i, line in enumerate(all_data):\n",
    "            out_file.write(line)\n",
    "            if i < len(all_data) - 1:\n",
    "                out_file.write(\"\\n\")  # Add newlines between all lines except after the last one\n",
    "\n",
    "    print(f\"All JSONL files have been combined into {combined_file}\")\n",
    "\n",
    "# Combine the JSONL files in the output folder\n",
    "combine_jsonl_files(output_folder_path, combined_output_file)\n"
   ]
  },
  {
   "cell_type": "code",
   "execution_count": null,
   "metadata": {
    "colab": {
     "base_uri": "https://localhost:8080/"
    },
    "executionInfo": {
     "elapsed": 172,
     "status": "ok",
     "timestamp": 1731814142831,
     "user": {
      "displayName": "Sourab Saklecha",
      "userId": "16363880340640371159"
     },
     "user_tz": 480
    },
    "id": "urnRz05ExemP",
    "outputId": "8200ed47-3313-45fa-a2b6-5c636956439c"
   },
   "outputs": [
    {
     "name": "stdout",
     "output_type": "stream",
     "text": [
      "Trimmed JSONL file created at: /content/drive/Shareddrives/DATA298B_Final/Data/Final_QA_OpenAI/final_qa_mixtral.jsonl\n"
     ]
    }
   ],
   "source": [
    "import json\n",
    "\n",
    "# Define file paths\n",
    "input_file_path = '/content/drive/Shareddrives/DATA298B_Final/Data/Final_QA_OpenAI/final_qa_openai.jsonl'\n",
    "output_file_path = '/content/drive/Shareddrives/DATA298B_Final/Data/Final_QA_OpenAI/final_qa_mixtral.jsonl'\n",
    "\n",
    "# Process each line to remove characters from position 15 to 91\n",
    "with open(input_file_path, 'r') as infile, open(output_file_path, 'w') as outfile:\n",
    "    for line in infile:\n",
    "        # Remove characters from position 15 to 91\n",
    "        trimmed_line = line[:14] + line[91:]\n",
    "        outfile.write(trimmed_line)\n",
    "\n",
    "print(f\"Trimmed JSONL file created at: {output_file_path}\")\n"
   ]
  },
  {
   "cell_type": "code",
   "execution_count": null,
   "metadata": {
    "id": "ccPPsN8HvHw4"
   },
   "outputs": [],
   "source": []
  },
  {
   "cell_type": "markdown",
   "metadata": {
    "id": "7OaNCLnHznoD"
   },
   "source": [
    "Combine CSVs"
   ]
  },
  {
   "cell_type": "code",
   "execution_count": null,
   "metadata": {
    "colab": {
     "base_uri": "https://localhost:8080/"
    },
    "executionInfo": {
     "elapsed": 1550,
     "status": "ok",
     "timestamp": 1731814147489,
     "user": {
      "displayName": "Sourab Saklecha",
      "userId": "16363880340640371159"
     },
     "user_tz": 480
    },
    "id": "1HtHKg2AiYYX",
    "outputId": "12e4bbb0-09d4-4c14-dcd0-15b9cfc47175"
   },
   "outputs": [
    {
     "name": "stdout",
     "output_type": "stream",
     "text": [
      "All CSV files have been combined into /content/drive/Shareddrives/DATA298B_Final/Data/Final_QA_OpenAI/final_qa_openai.csv\n"
     ]
    }
   ],
   "source": [
    "import os\n",
    "import csv\n",
    "\n",
    "# Enter the path to the folder where CSV files are saved\n",
    "output_folder_path = '/content/drive/Shareddrives/DATA298B_Final/Data/QA_csv'\n",
    "\n",
    "# Enter the path for the combined output CSV file\n",
    "combined_output_file = '/content/drive/Shareddrives/DATA298B_Final/Data/Final_QA_OpenAI/final_qa_openai.csv'\n",
    "\n",
    "# Function to combine CSV files\n",
    "def combine_csv_files(output_folder, combined_file):\n",
    "    csv_files = [f for f in os.listdir(output_folder) if f.endswith('.csv')]\n",
    "\n",
    "    all_data = []\n",
    "    header_written = False\n",
    "\n",
    "    # Open the combined CSV file for writing\n",
    "    with open(combined_file, 'w', newline='') as out_file:\n",
    "        writer = csv.writer(out_file)\n",
    "\n",
    "        # Loop through each CSV file\n",
    "        for csv_file in csv_files:\n",
    "            file_path = os.path.join(output_folder, csv_file)\n",
    "\n",
    "            with open(file_path, 'r') as f:\n",
    "                reader = csv.reader(f)\n",
    "\n",
    "                # Write header only once\n",
    "                if not header_written:\n",
    "                    header = next(reader)  # Extract the header from the first CSV file\n",
    "                    writer.writerow(header)\n",
    "                    header_written = True\n",
    "                else:\n",
    "                    next(reader)  # Skip the header for all other files\n",
    "\n",
    "                # Write the content of each CSV file\n",
    "                for row in reader:\n",
    "                    writer.writerow(row)\n",
    "\n",
    "    print(f\"All CSV files have been combined into {combined_file}\")\n",
    "\n",
    "# Combine the CSV files in the output folder\n",
    "combine_csv_files(output_folder_path, combined_output_file)\n"
   ]
  },
  {
   "cell_type": "markdown",
   "metadata": {
    "id": "ywD3nmuHz9B_"
   },
   "source": [
    "Combine Text Files"
   ]
  },
  {
   "cell_type": "code",
   "execution_count": null,
   "metadata": {
    "colab": {
     "base_uri": "https://localhost:8080/"
    },
    "executionInfo": {
     "elapsed": 1311,
     "status": "ok",
     "timestamp": 1731814151463,
     "user": {
      "displayName": "Sourab Saklecha",
      "userId": "16363880340640371159"
     },
     "user_tz": 480
    },
    "id": "i15SXr9zz4B2",
    "outputId": "ffdf75c2-1d0e-4c2c-9ee0-8da1fc0e0053"
   },
   "outputs": [
    {
     "name": "stdout",
     "output_type": "stream",
     "text": [
      "All text files have been combined into /content/drive/Shareddrives/DATA298B_Final/Data/Final_QA_OpenAI/final_qa_openai.txt\n"
     ]
    }
   ],
   "source": [
    "import os\n",
    "\n",
    "# Enter the path to the folder where text files are saved\n",
    "output_folder_path = '/content/drive/Shareddrives/DATA298B_Final/Data/QA_text'\n",
    "\n",
    "# Enter the path for the combined output text file\n",
    "combined_output_file = '/content/drive/Shareddrives/DATA298B_Final/Data/Final_QA_OpenAI/final_qa_openai.txt'\n",
    "\n",
    "# Function to combine text files\n",
    "def combine_text_files(output_folder, combined_file):\n",
    "    text_files = [f for f in os.listdir(output_folder) if f.endswith('.txt')]\n",
    "\n",
    "    all_data = []\n",
    "\n",
    "    # Read all text files and store the contents\n",
    "    for text_file in text_files:\n",
    "        file_path = os.path.join(output_folder, text_file)\n",
    "        with open(file_path, 'r') as f:\n",
    "            all_data.append(f.read().strip())  # Read the file and strip unnecessary newlines\n",
    "\n",
    "    # Write combined data into one file\n",
    "    with open(combined_file, 'w') as out_file:\n",
    "        for i, text in enumerate(all_data):\n",
    "            out_file.write(text)\n",
    "            if i < len(all_data) - 1:\n",
    "                out_file.write(\"\\n\\n\")  # Add a newline between the contents of each file, except the last one\n",
    "\n",
    "    print(f\"All text files have been combined into {combined_file}\")\n",
    "\n",
    "# Combine the text files in the output folder\n",
    "combine_text_files(output_folder_path, combined_output_file)\n"
   ]
  },
  {
   "cell_type": "code",
   "execution_count": null,
   "metadata": {
    "id": "hDAq_EnsvCqc"
   },
   "outputs": [],
   "source": []
  }
 ],
 "metadata": {
  "colab": {
   "provenance": []
  },
  "kernelspec": {
   "display_name": "Python 3",
   "name": "python3"
  },
  "language_info": {
   "name": "python"
  }
 },
 "nbformat": 4,
 "nbformat_minor": 0
}
