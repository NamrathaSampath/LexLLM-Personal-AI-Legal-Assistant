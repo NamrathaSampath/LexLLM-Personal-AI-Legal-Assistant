{
 "cells": [
  {
   "cell_type": "code",
   "execution_count": null,
   "metadata": {
    "id": "YWZzQ54fjfw0"
   },
   "outputs": [],
   "source": [
    "import os\n",
    "os.environ[\"GOOGLE_API_KEY\"] = \"\""
   ]
  },
  {
   "cell_type": "code",
   "execution_count": null,
   "metadata": {
    "colab": {
     "base_uri": "https://localhost:8080/"
    },
    "executionInfo": {
     "elapsed": 7185,
     "status": "ok",
     "timestamp": 1727768434971,
     "user": {
      "displayName": "Namratha Sampath Kumar",
      "userId": "07706357640781878620"
     },
     "user_tz": 420
    },
    "id": "_K6kchg86-ta",
    "outputId": "afcdeec3-5b29-4b7a-f635-1e7cac1e805e"
   },
   "outputs": [
    {
     "name": "stdout",
     "output_type": "stream",
     "text": [
      "Requirement already satisfied: pydantic==1.10.7 in /usr/local/lib/python3.10/dist-packages (1.10.7)\n",
      "Requirement already satisfied: typing-extensions>=4.2.0 in /usr/local/lib/python3.10/dist-packages (from pydantic==1.10.7) (4.12.2)\n"
     ]
    }
   ],
   "source": [
    "pip install pydantic==1.10.7"
   ]
  },
  {
   "cell_type": "code",
   "execution_count": null,
   "metadata": {
    "id": "rWQKtl5omR6C"
   },
   "outputs": [],
   "source": [
    "! pip install -q ragstack-ai datasets"
   ]
  },
  {
   "cell_type": "code",
   "execution_count": null,
   "metadata": {
    "id": "EiCQcElemVM9"
   },
   "outputs": [],
   "source": [
    "import cassio"
   ]
  },
  {
   "cell_type": "code",
   "execution_count": null,
   "metadata": {
    "colab": {
     "base_uri": "https://localhost:8080/"
    },
    "executionInfo": {
     "elapsed": 6384,
     "status": "ok",
     "timestamp": 1727768450616,
     "user": {
      "displayName": "Namratha Sampath Kumar",
      "userId": "07706357640781878620"
     },
     "user_tz": 420
    },
    "id": "tolpAYpbmcTQ",
    "outputId": "d52341ab-3b5a-47da-c9ec-b8e4f53dc420"
   },
   "outputs": [
    {
     "name": "stdout",
     "output_type": "stream",
     "text": [
      "Enter your Gemini API Key: ··········\n"
     ]
    }
   ],
   "source": [
    "import os\n",
    "from getpass import getpass\n",
    "\n",
    "# Enter your settings for Astra DB and OpenAI:\n",
    "os.environ[\"ASTRA_DB_API_ENDPOINT\"] =\"\"\n",
    "os.environ[\"ASTRA_DB_APPLICATION_TOKEN\"] =\"\"\n",
    "os.environ[\"GEMINI_API_KEY\"] = getpass(\"Enter your Gemini API Key: \")"
   ]
  },
  {
   "cell_type": "code",
   "execution_count": null,
   "metadata": {
    "colab": {
     "base_uri": "https://localhost:8080/"
    },
    "executionInfo": {
     "elapsed": 17131,
     "status": "ok",
     "timestamp": 1727768544583,
     "user": {
      "displayName": "Namratha Sampath Kumar",
      "userId": "07706357640781878620"
     },
     "user_tz": 420
    },
    "id": "_IDN8Qwnm4D3",
    "outputId": "1ee51b1a-4eef-47c7-9d2a-bc854305efa6"
   },
   "outputs": [
    {
     "name": "stdout",
     "output_type": "stream",
     "text": [
      "Astra vector store configured\n"
     ]
    }
   ],
   "source": [
    "from langchain_astradb import AstraDBVectorStore\n",
    "from langchain_google_genai import GoogleGenerativeAIEmbeddings\n",
    "import os\n",
    "\n",
    "# Configure your embedding model and vector store\n",
    "embedding = GoogleGenerativeAIEmbeddings(model=\"models/embedding-001\")\n",
    "vstore = AstraDBVectorStore(\n",
    "    collection_name=\"geminii\",\n",
    "    embedding=embedding,\n",
    "    token=os.getenv(\"ASTRA_DB_APPLICATION_TOKEN\"),\n",
    "    api_endpoint=os.getenv(\"ASTRA_DB_API_ENDPOINT\"),\n",
    ")\n",
    "print(\"Astra vector store configured\")"
   ]
  },
  {
   "cell_type": "code",
   "execution_count": null,
   "metadata": {
    "colab": {
     "base_uri": "https://localhost:8080/"
    },
    "executionInfo": {
     "elapsed": 1185,
     "status": "ok",
     "timestamp": 1727768576168,
     "user": {
      "displayName": "Namratha Sampath Kumar",
      "userId": "07706357640781878620"
     },
     "user_tz": 420
    },
    "id": "dURP_TlGoQ_W",
    "outputId": "ec7a6a90-0d8c-459c-e664-86166394701b"
   },
   "outputs": [
    {
     "name": "stdout",
     "output_type": "stream",
     "text": [
      "Drive already mounted at /content/drive; to attempt to forcibly remount, call drive.mount(\"/content/drive\", force_remount=True).\n"
     ]
    }
   ],
   "source": [
    "from google.colab import drive\n",
    "drive.mount('/content/drive')"
   ]
  },
  {
   "cell_type": "code",
   "execution_count": null,
   "metadata": {
    "id": "WGUetMA7nR6d"
   },
   "outputs": [],
   "source": [
    "with open('/content/drive/Shareddrives/DATA 298A/Code/Output- Preprocessed Data/Combined_Content_From_PDF.txt', 'r', encoding='utf-8') as file:\n",
    "    content = file.read()"
   ]
  },
  {
   "cell_type": "code",
   "execution_count": null,
   "metadata": {
    "id": "L_9PRD22nSYA"
   },
   "outputs": [],
   "source": [
    "pages = content.split(\"\\f\")"
   ]
  },
  {
   "cell_type": "code",
   "execution_count": null,
   "metadata": {
    "id": "eL6quJegnTti"
   },
   "outputs": [],
   "source": [
    "# Initialize an empty string to store concatenated text\n",
    "raw_text = ''\n",
    "\n",
    "# Iterate over each \"page\" and concatenate the content\n",
    "for i, page_content in enumerate(pages):\n",
    "    if page_content.strip():  # Check if the page has any content\n",
    "        raw_text += page_content + \"\\n\""
   ]
  },
  {
   "cell_type": "code",
   "execution_count": null,
   "metadata": {
    "id": "NSSIlxjRm_Tw"
   },
   "outputs": [],
   "source": [
    "from langchain.text_splitter import CharacterTextSplitter\n",
    "# We need to split the text using Character Text Split such that it should not increse token size\n",
    "text_splitter = CharacterTextSplitter(\n",
    "    separator = \"\\n\",\n",
    "    chunk_size = 512,\n",
    "    chunk_overlap  = 150,\n",
    "    length_function = len,\n",
    ")\n",
    "texts = text_splitter.split_text(raw_text)"
   ]
  },
  {
   "cell_type": "code",
   "execution_count": null,
   "metadata": {
    "colab": {
     "base_uri": "https://localhost:8080/"
    },
    "executionInfo": {
     "elapsed": 3617,
     "status": "ok",
     "timestamp": 1727768585663,
     "user": {
      "displayName": "Namratha Sampath Kumar",
      "userId": "07706357640781878620"
     },
     "user_tz": 420
    },
    "id": "_NEVmSI6nXnh",
    "outputId": "6b14b191-7e56-443b-f7bf-a7df84ca3a7a"
   },
   "outputs": [
    {
     "name": "stdout",
     "output_type": "stream",
     "text": [
      "Number of headline inserted in AstraDB 282\n"
     ]
    }
   ],
   "source": [
    "from langchain.indexes.vectorstore import VectorStoreIndexWrapper\n",
    "vstore.add_texts(texts)\n",
    "\n",
    "print(\"Number of headline inserted in AstraDB\",  len(texts))\n",
    "\n",
    "astra_vector_index = VectorStoreIndexWrapper(vectorstore=vstore)"
   ]
  },
  {
   "cell_type": "code",
   "execution_count": null,
   "metadata": {
    "colab": {
     "base_uri": "https://localhost:8080/"
    },
    "executionInfo": {
     "elapsed": 220,
     "status": "ok",
     "timestamp": 1727768587257,
     "user": {
      "displayName": "Namratha Sampath Kumar",
      "userId": "07706357640781878620"
     },
     "user_tz": 420
    },
    "id": "kU1JEoY1ngcL",
    "outputId": "1610849b-dc04-42ed-b58c-aa0e95ca04fc"
   },
   "outputs": [
    {
     "name": "stdout",
     "output_type": "stream",
     "text": [
      "{'data': {'documents': [{'_id': '647a07bcfbae4f60abcffc9b937af837', 'content': 'response to anticipated public scrutiny, Facebook is likely to reinstitute such\\npolicies if such scrutiny passes.  44\\nCase 1:20-cv-03590-JEB Document 51 Filed 01/13/21 Page 45 of 53  150. Because access\\nto the relevant APIs is valuable to app developers, Facebook policy  conditions\\nchanged the incentives of app developers, and deterred them from developing\\ncompeting functionalities or supporting competing social networks.  151. Moreover,', 'metadata': {}}, {'_id': '499cee949f074bfba1a6752e2650ec74', 'content': 'acquisition: “new products  22\\nCase 1:20-cv-03590-JEB Document 51 Filed 01/13/21 Page 23 of 53  won’t get much\\ntraction since we’ll already have their mechanics deployed at scale.”  Facebook\\ncontinues to look for other competitive threats, and will seek to acquire them unless\\n insight into the most  popular apps.  We should use that to also help us make\\nstrategic acquisitions.” Facebook also used Onavo data to generate internal “Early', 'metadata': {}}, {'_id': '3213ee626177451096ab8409fa0128d2', 'content': 'includ ing the Find Friends  API and other APIs used to access user content from\\nFacebook Blue.  The Find Friends API, in  particular , was a valuable growth tool for\\nthird- party apps because it enabled users of such app s to  find their Facebook Blue\\nfriends who also used the third- party app and to invite those friends who  did not.\\n131. Also in 2010, Facebook added the Open Graph API to Facebook Platform , which\\nenabled third- party apps and websites to add plug -ins, such as the Facebook “Like”', 'metadata': {}}, {'_id': 'bdada8859c3743c7bc9851d058ba8cee', 'content': '-party apps and obtained immense power over apps’ developmental trajectories ,\\ncompetitive decision -making , and investment strategies .   136. Facebook uses this\\npower to deter and suppress competitive threats to its personal  social networking\\nmonopoly. In particular, to protect its personal social networking monopoly,\\nFacebook adopted conditional dealing policies that limited how third- party apps\\ncould use  Facebook Platform.  Specifically, between 2011 and 2018, Facebook made', 'metadata': {}}, {'_id': 'c70dce26e160489eab572e21e7c7ea77', 'content': 'States, even if it is popular in another country , is therefore  not reasonably\\ninterchangeable with a personal social networking service that is popular in the\\nUnited States .  Facebook and other industry participants recognize these\\ndistinctions and track  their performance, and that of rivals, separately by country.\\n57. While users may engage with other websites and apps, other types of internet\\nservices are not adequate substitu tes for personal social networking.  16', 'metadata': {}}, {'_id': '04480220659047649a3b174216ccaf40', 'content': 'Facebook Blue .   This course of conduct has had three main elements :  acquiring\\nInstagram, acquiring WhatsApp,  and the anticompetitive conditioning of access to its\\nplatform to suppress competition.   3\\nCase 1:20-cv-03590-JEB Document 51 Filed 01/13/21 Page 4 of 53  10. Instagram Ac\\nquisition. In 2012, Facebook acquired Instagram, the most  significant personal\\nsocial networking competitor to emerge since Facebook Blue launched .   11.', 'metadata': {}}, {'_id': '34d61f8e2eb345afb38f44927d72de44', 'content': 'businesses in the Facebook Platform ecosystem. In an email from December  2013, a\\nFacebook software engineer wrote:  [S]o we are literally going to group apps into\\nbuckets based on how scared we are  of them and give them different APIs?  How do we\\never hope to document this?  Put a link at the top of the page that says “Going to be\\nbuilding a messenger app? Click here to f ilter out the APls we won’t let you use!”\\nAnd what if an app adds a  feature that moves them from 2 to 1?  Shit just breaks?', 'metadata': {}}, {'_id': '2d65170d5a024e57bcae27cd530ad7fa', 'content': 'smartphones and to ward a  greater use of photo- based sharing.  Smartphones combined\\nhigh- quality cameras with mobile  access to the internet , which gave consumers new\\nways to share moments from their lives. By  satisfying users’ demand for excellence\\nin photo handling, social networking, and user experience via their smartphones ,\\nInstagram quickly seized a particularly strong position as a fast -growing  provider\\nof personal social networking.  As users increasingly demanded and prioritized', 'metadata': {}}, {'_id': '080aa8a5c4fc41c78f52373733be0054', 'content': '3.0  . . . . I will run it by you offline briefly to get your thoughts / see if we\\nshould double down now  (it might be now or never given how fast these guys keep\\ngrowing / the ambitions they are signaling )[.]”  Mr. Zuckerberg responded: “[I]f\\nthey build substantive features beyond just making  SMS free, that could be enough\\nfor them to tip markets like the US where SMS is still the primarily [sic] platform.”\\n118. Facebook executives and employees repeatedly identified WhatsApp internally as', 'metadata': {}}, {'_id': '899c248541c840cfb49a016b9f93e29b', 'content': 'personal social network is generally more valuable to a user when more of that user’s\\nfriends and  family are already members, a new entrant faces significant difficulties\\nin attracting a sufficient  user base to compete with Facebook. Facebook’s internal\\ndocuments confirm that it is very  difficult to win users with a social networking\\nproduct built around a particular social “mechanic”  (i.e., a particular way to\\nconnect and interact with others, such as photo-sharing) that is already  being used', 'metadata': {}}, {'_id': '57327b704a3141988ec9d9ece119555d', 'content': 'communicate with Facebook (i.e. , send data to Facebook Blue, or  retrieve data from\\nFacebook Blue) third -party apps must use Facebook API s.  For many years —  and\\ncontinuously until a recent suspension under the glare of international antitrust and\\nre gulatory  scrutiny —Facebook has made key APIs available to third -party apps only\\non the condition that  they refrain from providing the same core functions that\\nFacebook offer s, including through  Facebook Blue and Facebook Messenger, and from', 'metadata': {}}, {'_id': 'ea2334ddfa0749e6aa5372b5ecb0b4d1', 'content': 'to celebrate suppressing the threat:  “I remember your  internal post about how\\nInstagram was our threat and not Google+.  You were basically right.  One thing about\\nstartups though is you can often acquire them.”  16. The Instagram acquisition has\\ngiven Facebook control over its most significant  personal social networking\\ncompetitor , which both neutralizes the direct threat that Instagram  posed b y\\nitself, and, additionally, makes it more difficult for other firms to use photo-\\nsharing via  5', 'metadata': {}}, {'_id': '8829f6a643034f6e814b8e63557e74e4', 'content': 'users are generally stronger between users in the same country, because  for most\\nusers the vast majority of relevant friends, family, and other personal connections\\nreside  in the same country as the user. Accordingly, users in the United States\\npredomina tely share with  other users in the United States.  For users in the Unit\\ned States, a personal social networking  service that is not popular in the United\\nStates, even if it is popular in another country , is therefore  not reasonably', 'metadata': {}}, {'_id': '59ca4b6d5d2b45c4bd48646eb1969377', 'content': 'Facebook about its platform practices soon  after Facebook cut off Vine .  A Faceb\\nook manager reported internally about the third -party app :  “They’re super\\nconcerned about the viability of relying on our platform moving forward when  there’s\\nthis lingering chance that we can shut them down under grounds like this.”  159.\\nCollectively, Facebook’s announcement and enforcement of its anticompetitive\\nconditions have served to hinder, suppress, and deter the emergence of promising', 'metadata': {}}, {'_id': 'dd1140d7fe75477189d0173f7c57a89c', 'content': 'other over time, potentially creating noteworthy  competition, which can now be\\navoided.  125. Another firm, Bernstein Research, noted of the deal:  The “distance”\\nbetween the WhatsApp mobile stream and Facebook’s mobile  Newsfeed is not great and\\none could see the emergence of another 1 billion user  service that could, over time,\\nbecome a competitor to Facebook for user engagement.  As an independent company or as\\npart of another business such as Google, Twitter, or eBay, WhatsApp graph could be', 'metadata': {}}, {'_id': 'c3c08a19cfba438ea26cc34f667f65ee', 'content': 'market, through means other than  merits competition . In doing so, Facebook deprive\\ns users of personal social networking in the  Unite d States of the benefits of\\ncompetition, including increased choice, quality, and innovation.   8\\nCase 1:20-cv-03590-JEB Document 51 Filed 01/13/21 Page 9 of 53  Facebook cannot\\njustify this substantial harm to competition with claimed efficiencies,\\nprocompetitive benefits, or business justifications that could not be achieved', 'metadata': {}}, {'_id': 'cbc77f36f60543e7acc4f48bad59bef6', 'content': 'Reciprocity: Facebook  Platform enables developers to build personalized, social\\nexperiences via the Graph API and related APIs.  If you use any Facebook APIs to\\nbuild personalized or social experiences, you must also enable people to easily share\\ntheir experiences back with people on Facebook. (b) Replicating core functionality:\\nYou may not use  Facebook Platform to promote, or to export user data to, a product\\nor service that replicates a core Facebook product or service without our permission.', 'metadata': {}}, {'_id': '47fdd0ebed8e4390abfbc09ec0d984c7', 'content': 'could have grown into the next FB purely on mobile[.]” Other  industry observers\\nshared that view .  For example, investment bank SunTrust Robinson Humphrey  observed\\nin an analyst report:  “We think WhatsApp and Facebook were likely to more closely\\nresemble each other over time, potentially creating noteworthy competition, which can\\nnow be avoided.”  21. Just as with Instagram, WhatsApp presented a powerful threat to\\nFacebook’ s  personal social networking monopoly , which F acebook targeted for', 'metadata': {}}, {'_id': '9c7fdb4057b44d188b2a7872ee39a47e', 'content': 'me yesterday to talk about selling his [ company ] to us.  He said  he thinks he’ll\\neither raise money or sell at $500m.”  Mr. Schroepfer replied that “not losing\\nstrategic position in photos is worth a lot of money.”  27\\nCase 1:20-cv-03590-JEB Document 51 Filed 01/13/21 Page 28 of 53  93. Similarly, on\\nApril 4, 2012, Ms. Sandberg and other senior managers received an  email report that\\ncompared usage of Instagram and Facebook Blue on the iPhone, which flagged  that', 'metadata': {}}, {'_id': '0e023b67facd4fd5a0bfb5575244862f', 'content': 'not  limited to , Instagram and/or WhatsApp), and such other relief sufficient to\\nrestore  the competition that would exist absent the conduct alleged in the\\nComplaint, including, to the extent reasonably necessary, the provision of ongoing\\nsupport or services from Facebook to one or more viable and independent business(es);\\nC. any other equitable relief necessary to restore competition and remedy the harm to\\ncompetition caused by Facebook’s anticompetitive conduct described above ;  D. a', 'metadata': {}}], 'nextPageState': 'KQAAAAEBAAAAIDBlMDIzYjY3ZmFjZDRmZDVhMGJmYjU1NzUyNDQ4NjJmAPB////rAA=='}}\n"
     ]
    }
   ],
   "source": [
    "# Checks your collection to verify the documents are embedded.\n",
    "print(vstore.astra_db.collection(\"geminii\").find())"
   ]
  },
  {
   "cell_type": "code",
   "execution_count": null,
   "metadata": {
    "id": "OSgk1yt0p2kD"
   },
   "outputs": [],
   "source": [
    "from langchain.prompts import ChatPromptTemplate\n",
    "from langchain_google_genai import GoogleGenerativeAI\n",
    "from langchain.schema.output_parser import StrOutputParser\n",
    "from langchain.schema.runnable import RunnablePassthrough\n",
    "\n",
    "retriever = vstore.as_retriever(search_kwargs={\"k\": 3})\n",
    "\n",
    "prompt_template = \"\"\"\n",
    "Answer the question based only on the supplied context. If you don't know the answer, say you don't know the answer.\n",
    "Context: {context}\n",
    "Question: {question}\n",
    "Your answer:\n",
    "\"\"\"\n",
    "prompt = ChatPromptTemplate.from_template(prompt_template)\n",
    "model = GoogleGenerativeAI(model=\"gemini-pro\")\n",
    "\n",
    "chain = (\n",
    "    {\"context\": retriever, \"question\": RunnablePassthrough()}\n",
    "    | prompt\n",
    "    | model\n",
    "    | StrOutputParser()\n",
    ")"
   ]
  },
  {
   "cell_type": "code",
   "execution_count": null,
   "metadata": {
    "colab": {
     "base_uri": "https://localhost:8080/",
     "height": 52
    },
    "executionInfo": {
     "elapsed": 3116,
     "status": "ok",
     "timestamp": 1727768621664,
     "user": {
      "displayName": "Namratha Sampath Kumar",
      "userId": "07706357640781878620"
     },
     "user_tz": 420
    },
    "id": "2nHWdsz_qxIB",
    "outputId": "0260f229-adfd-45d6-d773-ecbbfb6184dc"
   },
   "outputs": [
    {
     "data": {
      "application/vnd.google.colaboratory.intrinsic+json": {
       "type": "string"
      },
      "text/plain": [
       "\"The Federal Trade Commission (FTC) filed a complaint against Facebook, Inc., alleging that the company has engaged in anticompetitive conduct and unfair methods of competition in violation of Section 5(a) of the FTC Act. The FTC seeks permanent injunctive relief to remedy Facebook's alleged violations of the law.\""
      ]
     },
     "execution_count": 30,
     "metadata": {},
     "output_type": "execute_result"
    }
   ],
   "source": [
    "chain.invoke(\"Give a summary about complaint case filed against Facebook\")"
   ]
  },
  {
   "cell_type": "code",
   "execution_count": null,
   "metadata": {
    "colab": {
     "base_uri": "https://localhost:8080/",
     "height": 35
    },
    "executionInfo": {
     "elapsed": 2084,
     "status": "ok",
     "timestamp": 1727768627836,
     "user": {
      "displayName": "Namratha Sampath Kumar",
      "userId": "07706357640781878620"
     },
     "user_tz": 420
    },
    "id": "8irYdX0OrRPg",
    "outputId": "67f976cc-5eef-4f8b-915f-15befab20214"
   },
   "outputs": [
    {
     "data": {
      "application/vnd.google.colaboratory.intrinsic+json": {
       "type": "string"
      },
      "text/plain": [
       "\"I don't know the answer to this question.\""
      ]
     },
     "execution_count": 31,
     "metadata": {},
     "output_type": "execute_result"
    }
   ],
   "source": [
    "chain.invoke(\"what is the weather looking like today?\")"
   ]
  },
  {
   "cell_type": "code",
   "execution_count": null,
   "metadata": {
    "colab": {
     "base_uri": "https://localhost:8080/",
     "height": 35
    },
    "executionInfo": {
     "elapsed": 1899,
     "status": "ok",
     "timestamp": 1727768632865,
     "user": {
      "displayName": "Namratha Sampath Kumar",
      "userId": "07706357640781878620"
     },
     "user_tz": 420
    },
    "id": "ltlfG4DDMJUA",
    "outputId": "912c7568-f8fa-4b51-8191-a657d4315020"
   },
   "outputs": [
    {
     "data": {
      "application/vnd.google.colaboratory.intrinsic+json": {
       "type": "string"
      },
      "text/plain": [
       "'I do not know the answer to this question.'"
      ]
     },
     "execution_count": 32,
     "metadata": {},
     "output_type": "execute_result"
    }
   ],
   "source": [
    "chain.invoke(\"Who filed the case against Facebook and what was the case?\")"
   ]
  }
 ],
 "metadata": {
  "accelerator": "GPU",
  "colab": {
   "gpuType": "T4",
   "provenance": []
  },
  "kernelspec": {
   "display_name": "Python 3",
   "name": "python3"
  },
  "language_info": {
   "name": "python"
  }
 },
 "nbformat": 4,
 "nbformat_minor": 0
}
